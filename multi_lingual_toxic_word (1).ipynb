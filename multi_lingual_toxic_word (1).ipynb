{
 "cells": [
  {
   "cell_type": "code",
   "execution_count": 90,
   "id": "913a650d-af37-4674-a591-679ccecf41f1",
   "metadata": {},
   "outputs": [],
   "source": [
    "import matplotlib.pyplot as plt\n",
    "import seaborn as sns\n",
    "%matplotlib inline\n",
    "from PIL import Image, ImageDraw, ImageFont\n",
    "from tensorflow.keras.preprocessing.sequence import pad_sequences\n",
    "from sklearn.metrics import confusion_matrix\n",
    "import sklearn.metrics as metrics\n",
    "from sklearn.metrics import confusion_matrix\n",
    "import seaborn as sn"
   ]
  },
  {
   "cell_type": "code",
   "execution_count": 93,
   "id": "937b6ff6-e50b-4a6c-96d7-473a1acd6054",
   "metadata": {},
   "outputs": [],
   "source": [
    "import numpy as np \n",
    "import pandas as pd \n",
    "from tqdm import tqdm\n",
    "from sklearn.model_selection import train_test_split\n",
    "import tensorflow as tf\n",
    "from tensorflow.keras.models import Sequential\n",
    "from tensorflow.keras.layers import LSTM, GRU,SimpleRNN\n",
    "from tensorflow.keras.layers import Dense, Activation, Dropout\n",
    "from tensorflow.keras.layers import Embedding\n",
    "from tensorflow.keras.layers import BatchNormalization\n",
    "from tensorflow.python.keras.utils import np_utils\n",
    "from sklearn import preprocessing, decomposition, model_selection, metrics, pipeline\n",
    "from tensorflow.keras.layers import GlobalMaxPooling1D, Conv1D, MaxPooling1D, Flatten, Bidirectional, SpatialDropout1D\n",
    "from tensorflow.keras.preprocessing import sequence, text\n",
    "from tensorflow.keras.callbacks import EarlyStopping\n",
    "from tensorflow.keras.preprocessing.text import Tokenizer\n",
    "from sklearn.metrics import classification_report,accuracy_score"
   ]
  },
  {
   "cell_type": "code",
   "execution_count": null,
   "id": "1f41f2b8-8a96-4585-831b-9cba16d3ba67",
   "metadata": {},
   "outputs": [],
   "source": [
    "# dataset link: https://www.kaggle.com/c/jigsaw-toxic-comment-classification-challenge/data"
   ]
  },
  {
   "attachments": {
    "73940a7e-6354-43cc-8d6e-41a6fc71409c.png": {
     "image/png": "[encoded data removed]"
    }
   },
   "cell_type": "markdown",
   "id": "5c8ce574-bd37-4bd5-8bc1-edf3e012c28b",
   "metadata": {},
   "source": [
    "![image.png](attachment:73940a7e-6354-43cc-8d6e-41a6fc71409c.png)"
   ]
  },
  {
   "cell_type": "code",
   "execution_count": 79,
   "id": "f37df1ff-f0f6-4765-b551-795b36511c61",
   "metadata": {},
   "outputs": [],
   "source": [
    "df_ = pd.read_csv(r'train.csv')"
   ]
  },
  {
   "cell_type": "code",
   "execution_count": 10,
   "id": "b1d16535-3578-4a33-a151-0b01afd2a05b",
   "metadata": {},
   "outputs": [
    {
     "data": {
      "text/html": [
       "<div>\n",
       "<style scoped>\n",
       "    .dataframe tbody tr th:only-of-type {\n",
       "        vertical-align: middle;\n",
       "    }\n",
       "\n",
       "    .dataframe tbody tr th {\n",
       "        vertical-align: top;\n",
       "    }\n",
       "\n",
       "    .dataframe thead th {\n",
       "        text-align: right;\n",
       "    }\n",
       "</style>\n",
       "<table border=\"1\" class=\"dataframe\">\n",
       "  <thead>\n",
       "    <tr style=\"text-align: right;\">\n",
       "      <th></th>\n",
       "      <th>id</th>\n",
       "      <th>comment_text</th>\n",
       "      <th>toxic</th>\n",
       "      <th>severe_toxic</th>\n",
       "      <th>obscene</th>\n",
       "      <th>threat</th>\n",
       "      <th>insult</th>\n",
       "      <th>identity_hate</th>\n",
       "    </tr>\n",
       "  </thead>\n",
       "  <tbody>\n",
       "    <tr>\n",
       "      <th>0</th>\n",
       "      <td>0000997932d777bf</td>\n",
       "      <td>Explanation\\nWhy the edits made under my usern...</td>\n",
       "      <td>0</td>\n",
       "      <td>0</td>\n",
       "      <td>0</td>\n",
       "      <td>0</td>\n",
       "      <td>0</td>\n",
       "      <td>0</td>\n",
       "    </tr>\n",
       "    <tr>\n",
       "      <th>1</th>\n",
       "      <td>000103f0d9cfb60f</td>\n",
       "      <td>D'aww! He matches this background colour I'm s...</td>\n",
       "      <td>0</td>\n",
       "      <td>0</td>\n",
       "      <td>0</td>\n",
       "      <td>0</td>\n",
       "      <td>0</td>\n",
       "      <td>0</td>\n",
       "    </tr>\n",
       "    <tr>\n",
       "      <th>2</th>\n",
       "      <td>000113f07ec002fd</td>\n",
       "      <td>Hey man, I'm really not trying to edit war. It...</td>\n",
       "      <td>0</td>\n",
       "      <td>0</td>\n",
       "      <td>0</td>\n",
       "      <td>0</td>\n",
       "      <td>0</td>\n",
       "      <td>0</td>\n",
       "    </tr>\n",
       "    <tr>\n",
       "      <th>3</th>\n",
       "      <td>0001b41b1c6bb37e</td>\n",
       "      <td>\"\\nMore\\nI can't make any real suggestions on ...</td>\n",
       "      <td>0</td>\n",
       "      <td>0</td>\n",
       "      <td>0</td>\n",
       "      <td>0</td>\n",
       "      <td>0</td>\n",
       "      <td>0</td>\n",
       "    </tr>\n",
       "    <tr>\n",
       "      <th>4</th>\n",
       "      <td>0001d958c54c6e35</td>\n",
       "      <td>You, sir, are my hero. Any chance you remember...</td>\n",
       "      <td>0</td>\n",
       "      <td>0</td>\n",
       "      <td>0</td>\n",
       "      <td>0</td>\n",
       "      <td>0</td>\n",
       "      <td>0</td>\n",
       "    </tr>\n",
       "  </tbody>\n",
       "</table>\n",
       "</div>"
      ],
      "text/plain": [
       "                 id                                       comment_text  toxic  \\\n",
       "0  0000997932d777bf  Explanation\\nWhy the edits made under my usern...      0   \n",
       "1  000103f0d9cfb60f  D'aww! He matches this background colour I'm s...      0   \n",
       "2  000113f07ec002fd  Hey man, I'm really not trying to edit war. It...      0   \n",
       "3  0001b41b1c6bb37e  \"\\nMore\\nI can't make any real suggestions on ...      0   \n",
       "4  0001d958c54c6e35  You, sir, are my hero. Any chance you remember...      0   \n",
       "\n",
       "   severe_toxic  obscene  threat  insult  identity_hate  \n",
       "0             0        0       0       0              0  \n",
       "1             0        0       0       0              0  \n",
       "2             0        0       0       0              0  \n",
       "3             0        0       0       0              0  \n",
       "4             0        0       0       0              0  "
      ]
     },
     "execution_count": 10,
     "metadata": {},
     "output_type": "execute_result"
    }
   ],
   "source": [
    "df_.head()"
   ]
  },
  {
   "cell_type": "code",
   "execution_count": 12,
   "id": "107b6d4c-75ca-4a90-ae9b-d397db0c4fb6",
   "metadata": {},
   "outputs": [],
   "source": [
    "toxic_rows = df_[(df_['toxic'] == 1) | (df_['severe_toxic'] == 1) | (df_['obscene'] == 1) | \n",
    "                (df_['threat'] == 1) | (df_['insult'] == 1) | (df_['identity_hate'] == 1)]\n",
    "\n",
    "random_sample1 = toxic_rows.sample(n=1000, random_state=42)"
   ]
  },
  {
   "cell_type": "code",
   "execution_count": 13,
   "id": "7dbf560d-3eb1-4853-a70a-6dbe85b03cf5",
   "metadata": {},
   "outputs": [],
   "source": [
    "non_toxic_rows = df_[(df_['toxic'] == 0) & (df_['severe_toxic'] == 0) & (df_['obscene'] == 0) | \n",
    "                (df_['threat'] == 0) & (df_['insult'] == 0) & (df_['identity_hate'] == 0)]\n",
    "\n",
    "\n",
    "random_sample2 = non_toxic_rows.sample(n=2000, random_state=42) "
   ]
  },
  {
   "cell_type": "code",
   "execution_count": 14,
   "id": "5e0a1fd7-47e8-4d16-a2ec-765ce7618d76",
   "metadata": {},
   "outputs": [],
   "source": [
    "df_2 = pd.concat([random_sample1 ,random_sample2]).drop_duplicates()"
   ]
  },
  {
   "cell_type": "code",
   "execution_count": 15,
   "id": "ad32fe94-5170-4d00-895b-9fb4282bb1f3",
   "metadata": {},
   "outputs": [
    {
     "data": {
      "text/html": [
       "<div>\n",
       "<style scoped>\n",
       "    .dataframe tbody tr th:only-of-type {\n",
       "        vertical-align: middle;\n",
       "    }\n",
       "\n",
       "    .dataframe tbody tr th {\n",
       "        vertical-align: top;\n",
       "    }\n",
       "\n",
       "    .dataframe thead th {\n",
       "        text-align: right;\n",
       "    }\n",
       "</style>\n",
       "<table border=\"1\" class=\"dataframe\">\n",
       "  <thead>\n",
       "    <tr style=\"text-align: right;\">\n",
       "      <th></th>\n",
       "      <th>id</th>\n",
       "      <th>comment_text</th>\n",
       "      <th>toxic</th>\n",
       "      <th>severe_toxic</th>\n",
       "      <th>obscene</th>\n",
       "      <th>threat</th>\n",
       "      <th>insult</th>\n",
       "      <th>identity_hate</th>\n",
       "    </tr>\n",
       "  </thead>\n",
       "  <tbody>\n",
       "    <tr>\n",
       "      <th>45045</th>\n",
       "      <td>786d8ca9b0bad3cc</td>\n",
       "      <td>\"\\nI was talking about them running any check ...</td>\n",
       "      <td>1</td>\n",
       "      <td>0</td>\n",
       "      <td>0</td>\n",
       "      <td>0</td>\n",
       "      <td>0</td>\n",
       "      <td>0</td>\n",
       "    </tr>\n",
       "    <tr>\n",
       "      <th>27198</th>\n",
       "      <td>47f18388952e3ee7</td>\n",
       "      <td>White Trash\\nFuck off you white piece of trash...</td>\n",
       "      <td>1</td>\n",
       "      <td>1</td>\n",
       "      <td>1</td>\n",
       "      <td>0</td>\n",
       "      <td>1</td>\n",
       "      <td>1</td>\n",
       "    </tr>\n",
       "    <tr>\n",
       "      <th>16664</th>\n",
       "      <td>2bf361b9a8eb1ba5</td>\n",
       "      <td>eat shit get rid of goofs you queers.</td>\n",
       "      <td>1</td>\n",
       "      <td>0</td>\n",
       "      <td>1</td>\n",
       "      <td>0</td>\n",
       "      <td>1</td>\n",
       "      <td>0</td>\n",
       "    </tr>\n",
       "    <tr>\n",
       "      <th>8158</th>\n",
       "      <td>15b6fd032e614001</td>\n",
       "      <td>DUMB ASSES\\nIt's was my sockpuppet...joe hazet...</td>\n",
       "      <td>1</td>\n",
       "      <td>0</td>\n",
       "      <td>0</td>\n",
       "      <td>0</td>\n",
       "      <td>0</td>\n",
       "      <td>0</td>\n",
       "    </tr>\n",
       "    <tr>\n",
       "      <th>142212</th>\n",
       "      <td>f8b05b9ae771fb50</td>\n",
       "      <td>Are all professors of rhetoric pompous, self-c...</td>\n",
       "      <td>1</td>\n",
       "      <td>0</td>\n",
       "      <td>1</td>\n",
       "      <td>0</td>\n",
       "      <td>1</td>\n",
       "      <td>0</td>\n",
       "    </tr>\n",
       "  </tbody>\n",
       "</table>\n",
       "</div>"
      ],
      "text/plain": [
       "                      id                                       comment_text  \\\n",
       "45045   786d8ca9b0bad3cc  \"\\nI was talking about them running any check ...   \n",
       "27198   47f18388952e3ee7  White Trash\\nFuck off you white piece of trash...   \n",
       "16664   2bf361b9a8eb1ba5              eat shit get rid of goofs you queers.   \n",
       "8158    15b6fd032e614001  DUMB ASSES\\nIt's was my sockpuppet...joe hazet...   \n",
       "142212  f8b05b9ae771fb50  Are all professors of rhetoric pompous, self-c...   \n",
       "\n",
       "        toxic  severe_toxic  obscene  threat  insult  identity_hate  \n",
       "45045       1             0        0       0       0              0  \n",
       "27198       1             1        1       0       1              1  \n",
       "16664       1             0        1       0       1              0  \n",
       "8158        1             0        0       0       0              0  \n",
       "142212      1             0        1       0       1              0  "
      ]
     },
     "execution_count": 15,
     "metadata": {},
     "output_type": "execute_result"
    }
   ],
   "source": [
    "df_2.head()"
   ]
  },
  {
   "cell_type": "code",
   "execution_count": 16,
   "id": "d80f4294-fb88-4aee-aee7-50c7947160d3",
   "metadata": {},
   "outputs": [],
   "source": [
    "df_2 = df_2.reset_index(drop=True)"
   ]
  },
  {
   "cell_type": "code",
   "execution_count": 17,
   "id": "2bec799d-47f2-45af-aae7-4c5fc162fc2d",
   "metadata": {},
   "outputs": [
    {
     "data": {
      "text/html": [
       "<div>\n",
       "<style scoped>\n",
       "    .dataframe tbody tr th:only-of-type {\n",
       "        vertical-align: middle;\n",
       "    }\n",
       "\n",
       "    .dataframe tbody tr th {\n",
       "        vertical-align: top;\n",
       "    }\n",
       "\n",
       "    .dataframe thead th {\n",
       "        text-align: right;\n",
       "    }\n",
       "</style>\n",
       "<table border=\"1\" class=\"dataframe\">\n",
       "  <thead>\n",
       "    <tr style=\"text-align: right;\">\n",
       "      <th></th>\n",
       "      <th>id</th>\n",
       "      <th>comment_text</th>\n",
       "      <th>toxic</th>\n",
       "      <th>severe_toxic</th>\n",
       "      <th>obscene</th>\n",
       "      <th>threat</th>\n",
       "      <th>insult</th>\n",
       "      <th>identity_hate</th>\n",
       "    </tr>\n",
       "  </thead>\n",
       "  <tbody>\n",
       "    <tr>\n",
       "      <th>0</th>\n",
       "      <td>786d8ca9b0bad3cc</td>\n",
       "      <td>\"\\nI was talking about them running any check ...</td>\n",
       "      <td>1</td>\n",
       "      <td>0</td>\n",
       "      <td>0</td>\n",
       "      <td>0</td>\n",
       "      <td>0</td>\n",
       "      <td>0</td>\n",
       "    </tr>\n",
       "    <tr>\n",
       "      <th>1</th>\n",
       "      <td>47f18388952e3ee7</td>\n",
       "      <td>White Trash\\nFuck off you white piece of trash...</td>\n",
       "      <td>1</td>\n",
       "      <td>1</td>\n",
       "      <td>1</td>\n",
       "      <td>0</td>\n",
       "      <td>1</td>\n",
       "      <td>1</td>\n",
       "    </tr>\n",
       "    <tr>\n",
       "      <th>2</th>\n",
       "      <td>2bf361b9a8eb1ba5</td>\n",
       "      <td>eat shit get rid of goofs you queers.</td>\n",
       "      <td>1</td>\n",
       "      <td>0</td>\n",
       "      <td>1</td>\n",
       "      <td>0</td>\n",
       "      <td>1</td>\n",
       "      <td>0</td>\n",
       "    </tr>\n",
       "    <tr>\n",
       "      <th>3</th>\n",
       "      <td>15b6fd032e614001</td>\n",
       "      <td>DUMB ASSES\\nIt's was my sockpuppet...joe hazet...</td>\n",
       "      <td>1</td>\n",
       "      <td>0</td>\n",
       "      <td>0</td>\n",
       "      <td>0</td>\n",
       "      <td>0</td>\n",
       "      <td>0</td>\n",
       "    </tr>\n",
       "    <tr>\n",
       "      <th>4</th>\n",
       "      <td>f8b05b9ae771fb50</td>\n",
       "      <td>Are all professors of rhetoric pompous, self-c...</td>\n",
       "      <td>1</td>\n",
       "      <td>0</td>\n",
       "      <td>1</td>\n",
       "      <td>0</td>\n",
       "      <td>1</td>\n",
       "      <td>0</td>\n",
       "    </tr>\n",
       "  </tbody>\n",
       "</table>\n",
       "</div>"
      ],
      "text/plain": [
       "                 id                                       comment_text  toxic  \\\n",
       "0  786d8ca9b0bad3cc  \"\\nI was talking about them running any check ...      1   \n",
       "1  47f18388952e3ee7  White Trash\\nFuck off you white piece of trash...      1   \n",
       "2  2bf361b9a8eb1ba5              eat shit get rid of goofs you queers.      1   \n",
       "3  15b6fd032e614001  DUMB ASSES\\nIt's was my sockpuppet...joe hazet...      1   \n",
       "4  f8b05b9ae771fb50  Are all professors of rhetoric pompous, self-c...      1   \n",
       "\n",
       "   severe_toxic  obscene  threat  insult  identity_hate  \n",
       "0             0        0       0       0              0  \n",
       "1             1        1       0       1              1  \n",
       "2             0        1       0       1              0  \n",
       "3             0        0       0       0              0  \n",
       "4             0        1       0       1              0  "
      ]
     },
     "execution_count": 17,
     "metadata": {},
     "output_type": "execute_result"
    }
   ],
   "source": [
    "df_2.head()"
   ]
  },
  {
   "cell_type": "code",
   "execution_count": null,
   "id": "53c157ba-7ea8-445a-bbef-593d922cec52",
   "metadata": {},
   "outputs": [],
   "source": [
    "## let's build thw model"
   ]
  },
  {
   "cell_type": "code",
   "execution_count": 33,
   "id": "2d9d30a7-e531-49c7-a199-1a936ea11d85",
   "metadata": {},
   "outputs": [],
   "source": [
    "df_2['labels'] = df_2[['toxic', 'severe_toxic', 'obscene', 'threat', 'insult', 'identity_hate']].values.tolist()"
   ]
  },
  {
   "cell_type": "code",
   "execution_count": 34,
   "id": "1f2b4acc-49f3-40ef-9090-d47f83d82dbb",
   "metadata": {},
   "outputs": [
    {
     "data": {
      "text/plain": [
       "0    [1, 0, 0, 0, 0, 0]\n",
       "1    [1, 1, 1, 0, 1, 1]\n",
       "2    [1, 0, 1, 0, 1, 0]\n",
       "3    [1, 0, 0, 0, 0, 0]\n",
       "4    [1, 0, 1, 0, 1, 0]\n",
       "Name: labels, dtype: object"
      ]
     },
     "execution_count": 34,
     "metadata": {},
     "output_type": "execute_result"
    }
   ],
   "source": [
    "df_2['labels'].head()"
   ]
  },
  {
   "cell_type": "code",
   "execution_count": 11,
   "id": "ebd308c1-d37c-4bb5-9aa4-717c3cf84bc0",
   "metadata": {},
   "outputs": [],
   "source": [
    "# Train-test split\n",
    "train_texts, val_texts, train_labels, val_labels = train_test_split(df_2['comment_text'].values, df_2['labels'].values, test_size=0.2)\n"
   ]
  },
  {
   "cell_type": "code",
   "execution_count": 15,
   "id": "84b06f0c-5499-4f07-bd42-9580228d0201",
   "metadata": {},
   "outputs": [],
   "source": [
    "train_dataset = ToxicCommentDataset(train_texts, train_labels, tokenizer, max_len=128*4)\n",
    "val_dataset = ToxicCommentDataset(val_texts, val_labels, tokenizer, max_len=128)"
   ]
  },
  {
   "cell_type": "code",
   "execution_count": 6,
   "id": "68b46536-8626-4f47-a302-618f043c1234",
   "metadata": {},
   "outputs": [],
   "source": [
    "# tokenization"
   ]
  },
  {
   "cell_type": "code",
   "execution_count": 42,
   "id": "3736adac-b631-41cf-9f78-39db9a826068",
   "metadata": {},
   "outputs": [],
   "source": [
    "maxlen = 100  \n",
    "embedding_dim = 100  \n",
    "vocab_size = 5000  \n",
    "\n",
    "# Tokenizing the text data\n",
    "tokenizer = Tokenizer(num_words=vocab_size)\n",
    "tokenizer.fit_on_texts(df_2[\"comment_text\"])\n",
    "sequences = tokenizer.texts_to_sequences(df_2[\"comment_text\"])\n",
    "\n",
    "# Padding sequences to ensure consistent input size\n",
    "X = pad_sequences(sequences, maxlen=maxlen)\n",
    "y = np.array(df_2[\"labels\"])\n"
   ]
  },
  {
   "cell_type": "code",
   "execution_count": 72,
   "id": "b8aac57e-a2e8-45e8-9b59-66e0673f12ca",
   "metadata": {},
   "outputs": [],
   "source": [
    "\n",
    "X_train, X_val, y_train, y_val = train_test_split(X, y, test_size=0.2, random_state=42)\n",
    "\n",
    "embedding_matrix = np.random.randn(vocab_size, embedding_dim)  \n",
    "\n"
   ]
  },
  {
   "cell_type": "code",
   "execution_count": 96,
   "id": "c45342ac-b7b6-449e-9951-f56fd9757c60",
   "metadata": {},
   "outputs": [],
   "source": [
    "\n",
    "model = Sequential()\n",
    "model.add(Embedding(vocab_size, output_dim=embedding_dim, weights=[embedding_matrix], input_length=maxlen, trainable=True))\n",
    "model.add(LSTM(units=128))  \n",
    "model.add(Dense(6, activation=\"sigmoid\")) "
   ]
  },
  {
   "cell_type": "code",
   "execution_count": 54,
   "id": "fabb5a26-4c5c-4dfd-85f2-cbd4a0d2b73b",
   "metadata": {},
   "outputs": [
    {
     "data": {
      "text/plain": [
       "[1, 0, 1, 0, 1, 0]"
      ]
     },
     "execution_count": 54,
     "metadata": {},
     "output_type": "execute_result"
    }
   ],
   "source": [
    "y_train[20]"
   ]
  },
  {
   "cell_type": "code",
   "execution_count": 74,
   "id": "ace66c5b-76d0-402f-905d-61875de4e317",
   "metadata": {},
   "outputs": [],
   "source": [
    "tensor_list = [torch.from_numpy(np.array(item)) for item in y_train]\n",
    "y_train2 = torch.stack(tensor_list)"
   ]
  },
  {
   "cell_type": "code",
   "execution_count": 75,
   "id": "5dd0e839-b4dc-4f6d-b037-2b16068da89d",
   "metadata": {},
   "outputs": [],
   "source": [
    "tensor_list = [torch.from_numpy(np.array(item)) for item in y_val]\n",
    "y_val2 = torch.stack(tensor_list)"
   ]
  },
  {
   "cell_type": "code",
   "execution_count": 76,
   "id": "357f93f4-6615-4752-9925-0988f6c6cc5d",
   "metadata": {
    "scrolled": true
   },
   "outputs": [],
   "source": [
    "X_train = tf.convert_to_tensor(X_train, dtype=tf.float32)\n",
    "X_val = tf.convert_to_tensor(X_val, dtype=tf.float32)\n"
   ]
  },
  {
   "cell_type": "code",
   "execution_count": 82,
   "id": "610bf00c-aaa3-4ae4-878a-5c41a64edb1d",
   "metadata": {},
   "outputs": [],
   "source": [
    "y_train2 = convert(y_train2)"
   ]
  },
  {
   "cell_type": "code",
   "execution_count": 83,
   "id": "5e3337d4-fbea-4374-8401-256db48fa208",
   "metadata": {},
   "outputs": [],
   "source": [
    "y_val2 = convert(y_val2)"
   ]
  },
  {
   "cell_type": "code",
   "execution_count": 85,
   "id": "8e1d7fe3-2e8c-4b60-ae0a-f2b78380a02e",
   "metadata": {},
   "outputs": [
    {
     "data": {
      "text/plain": [
       "TensorShape([600, 6])"
      ]
     },
     "execution_count": 85,
     "metadata": {},
     "output_type": "execute_result"
    }
   ],
   "source": [
    "y_val2.shape"
   ]
  },
  {
   "cell_type": "code",
   "execution_count": 86,
   "id": "18c1befe-3348-455b-bb1c-13f92ea97c50",
   "metadata": {},
   "outputs": [
    {
     "data": {
      "text/plain": [
       "TensorShape([2396, 6])"
      ]
     },
     "execution_count": 86,
     "metadata": {},
     "output_type": "execute_result"
    }
   ],
   "source": [
    "y_train2.shape"
   ]
  },
  {
   "cell_type": "code",
   "execution_count": 81,
   "id": "19e25185-c996-4a9d-befb-f180d24bb382",
   "metadata": {},
   "outputs": [],
   "source": [
    "\n",
    "def convert(y0):\n",
    "    \n",
    "    pytorch_tensor = y0\n",
    "    \n",
    "    numpy_array = pytorch_tensor.numpy()\n",
    "\n",
    "    tensorflow_tensor = tf.convert_to_tensor(numpy_array)\n",
    "\n",
    "    return tensorflow_tensor\n"
   ]
  },
  {
   "cell_type": "code",
   "execution_count": 97,
   "id": "8eadec2c-80e2-4ef1-83d8-c9a45ae0c0ca",
   "metadata": {},
   "outputs": [
    {
     "name": "stdout",
     "output_type": "stream",
     "text": [
      "Epoch 1/7\n",
      "75/75 [==============================] - 10s 108ms/step - loss: 0.3475 - accuracy: 0.9182 - val_loss: 0.3016 - val_accuracy: 0.9683\n",
      "Epoch 2/7\n",
      "75/75 [==============================] - 7s 97ms/step - loss: 0.2459 - accuracy: 0.9800 - val_loss: 0.2657 - val_accuracy: 0.9650\n",
      "Epoch 3/7\n",
      "75/75 [==============================] - 7s 98ms/step - loss: 0.2038 - accuracy: 0.9795 - val_loss: 0.2573 - val_accuracy: 0.9617\n",
      "Epoch 4/7\n",
      "75/75 [==============================] - 7s 100ms/step - loss: 0.1708 - accuracy: 0.9741 - val_loss: 0.2663 - val_accuracy: 0.9600\n",
      "Epoch 5/7\n",
      "75/75 [==============================] - 7s 100ms/step - loss: 0.1444 - accuracy: 0.9720 - val_loss: 0.2496 - val_accuracy: 0.9567\n",
      "Epoch 6/7\n",
      "75/75 [==============================] - 8s 100ms/step - loss: 0.1193 - accuracy: 0.9541 - val_loss: 0.2714 - val_accuracy: 0.9483\n",
      "Epoch 7/7\n",
      "75/75 [==============================] - 7s 98ms/step - loss: 0.0986 - accuracy: 0.9453 - val_loss: 0.2766 - val_accuracy: 0.9083\n"
     ]
    },
    {
     "data": {
      "text/plain": [
       "<keras.callbacks.History at 0x3ff31863c40>"
      ]
     },
     "execution_count": 97,
     "metadata": {},
     "output_type": "execute_result"
    }
   ],
   "source": [
    "model.compile(optimizer=\"adam\", loss=\"binary_crossentropy\", metrics=[\"accuracy\"])\n",
    "\n",
    "model.fit(X_train, y_train2, epochs=7, batch_size=32, validation_data=(X_val, y_val2))\n"
   ]
  },
  {
   "cell_type": "code",
   "execution_count": 94,
   "id": "7a75c7b2-6fff-4889-bc74-753cd2c7185f",
   "metadata": {},
   "outputs": [],
   "source": [
    "output_map = {\n",
    "0: \"toxic\"\t, 1:\"severe_toxic\",\t2:\"obscene\"\t, 3:\"threat\", 4:\"insult\", 5:\"identity_hate\"\n",
    "}"
   ]
  },
  {
   "cell_type": "code",
   "execution_count": 114,
   "id": "bb33fb19-b2eb-43c3-a1f5-144f27712394",
   "metadata": {},
   "outputs": [],
   "source": [
    "# let consider a datapoint\n",
    "test_ = \"you are waste\""
   ]
  },
  {
   "cell_type": "code",
   "execution_count": 125,
   "id": "1b74921d-18cd-4d03-85f1-f3d00026ab39",
   "metadata": {},
   "outputs": [
    {
     "name": "stdout",
     "output_type": "stream",
     "text": [
      "19/19 [==============================] - 1s 46ms/step\n"
     ]
    }
   ],
   "source": [
    "predict_ = model.predict(test_)"
   ]
  },
  {
   "cell_type": "code",
   "execution_count": 120,
   "id": "a167f248-113b-4bf0-a277-6ab2172ac7ff",
   "metadata": {},
   "outputs": [
    {
     "data": {
      "text/plain": [
       "array([0.2316409 , 0.00212604, 0.09305762, 0.00138757, 0.03730922,\n",
       "       0.01351762], dtype=float32)"
      ]
     },
     "execution_count": 120,
     "metadata": {},
     "output_type": "execute_result"
    }
   ],
   "source": [
    "predict_[0]"
   ]
  },
  {
   "cell_type": "code",
   "execution_count": 121,
   "id": "bf36efc3-f5da-4a14-843c-19c2aa4bb22e",
   "metadata": {},
   "outputs": [],
   "source": [
    "max = 0\n",
    "class_ = 0\n",
    "for i in predict_[0]:\n",
    "    if max > i:\n",
    "        max = int(max)\n",
    "    class_ +=1\n",
    "    "
   ]
  },
  {
   "cell_type": "code",
   "execution_count": 126,
   "id": "24eaae53-8d94-42ef-8506-a71cf9f8e51b",
   "metadata": {},
   "outputs": [
    {
     "name": "stdout",
     "output_type": "stream",
     "text": [
      "toxic\n"
     ]
    }
   ],
   "source": [
    "predicted_class_names = output_map[max]\n",
    "print(predicted_class_names)"
   ]
  },
  {
   "cell_type": "code",
   "execution_count": null,
   "id": "826859b7-2abc-49b2-8d6c-23a893920c48",
   "metadata": {},
   "outputs": [],
   "source": []
  },
  {
   "cell_type": "code",
   "execution_count": null,
   "id": "281aca11-8de3-4bf5-8f8d-f119410f9b34",
   "metadata": {},
   "outputs": [],
   "source": []
  },
  {
   "cell_type": "code",
   "execution_count": null,
   "id": "a9b4761d-c68d-4152-ad9e-0d9fca136cca",
   "metadata": {},
   "outputs": [],
   "source": []
  },
  {
   "cell_type": "code",
   "execution_count": 116,
   "id": "975eb733-43eb-4ebc-9a8b-55bdf21f7c26",
   "metadata": {},
   "outputs": [],
   "source": [
    "test_ = X_val"
   ]
  },
  {
   "cell_type": "code",
   "execution_count": null,
   "id": "ba4ee0b8-5d21-4e71-9fb2-47cdfb6b06c1",
   "metadata": {},
   "outputs": [],
   "source": []
  }
 ],
 "metadata": {
  "kernelspec": {
   "display_name": "Python 3 (ipykernel)",
   "language": "python",
   "name": "python3"
  },
  "language_info": {
   "codemirror_mode": {
    "name": "ipython",
    "version": 3
   },
   "file_extension": ".py",
   "mimetype": "text/x-python",
   "name": "python",
   "nbconvert_exporter": "python",
   "pygments_lexer": "ipython3",
   "version": "3.10.12"
  }
 },
 "nbformat": 4,
 "nbformat_minor": 5
}
